{
 "cells": [
  {
   "cell_type": "code",
   "execution_count": 1,
   "metadata": {},
   "outputs": [],
   "source": [
    "import pandas as pd\n",
    "import matplotlib.pyplot as plt"
   ]
  },
  {
   "cell_type": "code",
   "execution_count": 2,
   "metadata": {},
   "outputs": [],
   "source": [
    "combine_data = pd.read_csv('2018_nfl_combine.csv')"
   ]
  },
  {
   "cell_type": "code",
   "execution_count": 3,
   "metadata": {},
   "outputs": [
    {
     "data": {
      "text/plain": [
       "(6218, 16)"
      ]
     },
     "execution_count": 3,
     "metadata": {},
     "output_type": "execute_result"
    }
   ],
   "source": [
    "combine_data.shape"
   ]
  },
  {
   "cell_type": "code",
   "execution_count": 4,
   "metadata": {},
   "outputs": [
    {
     "data": {
      "text/html": [
       "<div>\n",
       "<style scoped>\n",
       "    .dataframe tbody tr th:only-of-type {\n",
       "        vertical-align: middle;\n",
       "    }\n",
       "\n",
       "    .dataframe tbody tr th {\n",
       "        vertical-align: top;\n",
       "    }\n",
       "\n",
       "    .dataframe thead th {\n",
       "        text-align: right;\n",
       "    }\n",
       "</style>\n",
       "<table border=\"1\" class=\"dataframe\">\n",
       "  <thead>\n",
       "    <tr style=\"text-align: right;\">\n",
       "      <th></th>\n",
       "      <th>Player</th>\n",
       "      <th>Pos</th>\n",
       "      <th>Ht</th>\n",
       "      <th>Wt</th>\n",
       "      <th>Forty</th>\n",
       "      <th>Vertical</th>\n",
       "      <th>BenchReps</th>\n",
       "      <th>BroadJump</th>\n",
       "      <th>Cone</th>\n",
       "      <th>Shuttle</th>\n",
       "      <th>Year</th>\n",
       "      <th>Pfr_ID</th>\n",
       "      <th>AV</th>\n",
       "      <th>Team</th>\n",
       "      <th>Round</th>\n",
       "      <th>Pick</th>\n",
       "    </tr>\n",
       "  </thead>\n",
       "  <tbody>\n",
       "    <tr>\n",
       "      <th>0</th>\n",
       "      <td>John Abraham</td>\n",
       "      <td>OLB</td>\n",
       "      <td>76</td>\n",
       "      <td>252</td>\n",
       "      <td>4.55</td>\n",
       "      <td>NaN</td>\n",
       "      <td>NaN</td>\n",
       "      <td>NaN</td>\n",
       "      <td>NaN</td>\n",
       "      <td>NaN</td>\n",
       "      <td>2000</td>\n",
       "      <td>AbraJo00</td>\n",
       "      <td>26.0</td>\n",
       "      <td>New York Jets</td>\n",
       "      <td>1.0</td>\n",
       "      <td>13.0</td>\n",
       "    </tr>\n",
       "    <tr>\n",
       "      <th>1</th>\n",
       "      <td>Shaun Alexander</td>\n",
       "      <td>RB</td>\n",
       "      <td>72</td>\n",
       "      <td>218</td>\n",
       "      <td>4.58</td>\n",
       "      <td>NaN</td>\n",
       "      <td>NaN</td>\n",
       "      <td>NaN</td>\n",
       "      <td>NaN</td>\n",
       "      <td>NaN</td>\n",
       "      <td>2000</td>\n",
       "      <td>AlexSh00</td>\n",
       "      <td>26.0</td>\n",
       "      <td>Seattle Seahawks</td>\n",
       "      <td>1.0</td>\n",
       "      <td>19.0</td>\n",
       "    </tr>\n",
       "    <tr>\n",
       "      <th>2</th>\n",
       "      <td>Darnell Alford</td>\n",
       "      <td>OT</td>\n",
       "      <td>76</td>\n",
       "      <td>334</td>\n",
       "      <td>5.56</td>\n",
       "      <td>25.0</td>\n",
       "      <td>23.0</td>\n",
       "      <td>94.0</td>\n",
       "      <td>8.48</td>\n",
       "      <td>4.98</td>\n",
       "      <td>2000</td>\n",
       "      <td>AlfoDa20</td>\n",
       "      <td>0.0</td>\n",
       "      <td>Kansas City Chiefs</td>\n",
       "      <td>6.0</td>\n",
       "      <td>188.0</td>\n",
       "    </tr>\n",
       "    <tr>\n",
       "      <th>3</th>\n",
       "      <td>Kyle Allamon</td>\n",
       "      <td>TE</td>\n",
       "      <td>74</td>\n",
       "      <td>253</td>\n",
       "      <td>4.97</td>\n",
       "      <td>29.0</td>\n",
       "      <td>NaN</td>\n",
       "      <td>104.0</td>\n",
       "      <td>7.29</td>\n",
       "      <td>4.49</td>\n",
       "      <td>2000</td>\n",
       "      <td>NaN</td>\n",
       "      <td>0.0</td>\n",
       "      <td>NaN</td>\n",
       "      <td>NaN</td>\n",
       "      <td>NaN</td>\n",
       "    </tr>\n",
       "    <tr>\n",
       "      <th>4</th>\n",
       "      <td>Rashard Anderson</td>\n",
       "      <td>CB</td>\n",
       "      <td>74</td>\n",
       "      <td>206</td>\n",
       "      <td>4.55</td>\n",
       "      <td>34.0</td>\n",
       "      <td>NaN</td>\n",
       "      <td>123.0</td>\n",
       "      <td>7.18</td>\n",
       "      <td>4.15</td>\n",
       "      <td>2000</td>\n",
       "      <td>AndeRa21</td>\n",
       "      <td>6.0</td>\n",
       "      <td>Carolina Panthers</td>\n",
       "      <td>1.0</td>\n",
       "      <td>23.0</td>\n",
       "    </tr>\n",
       "  </tbody>\n",
       "</table>\n",
       "</div>"
      ],
      "text/plain": [
       "             Player  Pos  Ht   Wt  Forty  Vertical  BenchReps  BroadJump  \\\n",
       "0      John Abraham  OLB  76  252   4.55       NaN        NaN        NaN   \n",
       "1   Shaun Alexander   RB  72  218   4.58       NaN        NaN        NaN   \n",
       "2    Darnell Alford   OT  76  334   5.56      25.0       23.0       94.0   \n",
       "3      Kyle Allamon   TE  74  253   4.97      29.0        NaN      104.0   \n",
       "4  Rashard Anderson   CB  74  206   4.55      34.0        NaN      123.0   \n",
       "\n",
       "   Cone  Shuttle  Year    Pfr_ID    AV                Team  Round   Pick  \n",
       "0   NaN      NaN  2000  AbraJo00  26.0       New York Jets    1.0   13.0  \n",
       "1   NaN      NaN  2000  AlexSh00  26.0    Seattle Seahawks    1.0   19.0  \n",
       "2  8.48     4.98  2000  AlfoDa20   0.0  Kansas City Chiefs    6.0  188.0  \n",
       "3  7.29     4.49  2000       NaN   0.0                 NaN    NaN    NaN  \n",
       "4  7.18     4.15  2000  AndeRa21   6.0   Carolina Panthers    1.0   23.0  "
      ]
     },
     "execution_count": 4,
     "metadata": {},
     "output_type": "execute_result"
    }
   ],
   "source": [
    "combine_data.head()"
   ]
  },
  {
   "cell_type": "code",
   "execution_count": 5,
   "metadata": {},
   "outputs": [
    {
     "name": "stdout",
     "output_type": "stream",
     "text": [
      "<class 'pandas.core.frame.DataFrame'>\n",
      "RangeIndex: 6218 entries, 0 to 6217\n",
      "Data columns (total 16 columns):\n",
      " #   Column     Non-Null Count  Dtype  \n",
      "---  ------     --------------  -----  \n",
      " 0   Player     6218 non-null   object \n",
      " 1   Pos        6218 non-null   object \n",
      " 2   Ht         6218 non-null   int64  \n",
      " 3   Wt         6218 non-null   int64  \n",
      " 4   Forty      6046 non-null   float64\n",
      " 5   Vertical   4796 non-null   float64\n",
      " 6   BenchReps  4212 non-null   float64\n",
      " 7   BroadJump  4754 non-null   float64\n",
      " 8   Cone       3993 non-null   float64\n",
      " 9   Shuttle    4063 non-null   float64\n",
      " 10  Year       6218 non-null   int64  \n",
      " 11  Pfr_ID     4895 non-null   object \n",
      " 12  AV         6218 non-null   float64\n",
      " 13  Team       3738 non-null   object \n",
      " 14  Round      3738 non-null   float64\n",
      " 15  Pick       3738 non-null   float64\n",
      "dtypes: float64(9), int64(3), object(4)\n",
      "memory usage: 777.4+ KB\n"
     ]
    }
   ],
   "source": [
    "combine_data.info()"
   ]
  },
  {
   "cell_type": "code",
   "execution_count": 6,
   "metadata": {},
   "outputs": [
    {
     "data": {
      "text/html": [
       "<div>\n",
       "<style scoped>\n",
       "    .dataframe tbody tr th:only-of-type {\n",
       "        vertical-align: middle;\n",
       "    }\n",
       "\n",
       "    .dataframe tbody tr th {\n",
       "        vertical-align: top;\n",
       "    }\n",
       "\n",
       "    .dataframe thead th {\n",
       "        text-align: right;\n",
       "    }\n",
       "</style>\n",
       "<table border=\"1\" class=\"dataframe\">\n",
       "  <thead>\n",
       "    <tr style=\"text-align: right;\">\n",
       "      <th></th>\n",
       "      <th>Ht</th>\n",
       "      <th>Wt</th>\n",
       "      <th>Forty</th>\n",
       "      <th>Vertical</th>\n",
       "      <th>BenchReps</th>\n",
       "      <th>BroadJump</th>\n",
       "      <th>Cone</th>\n",
       "      <th>Shuttle</th>\n",
       "      <th>Year</th>\n",
       "      <th>AV</th>\n",
       "      <th>Round</th>\n",
       "      <th>Pick</th>\n",
       "    </tr>\n",
       "  </thead>\n",
       "  <tbody>\n",
       "    <tr>\n",
       "      <th>count</th>\n",
       "      <td>6218.000000</td>\n",
       "      <td>6218.000000</td>\n",
       "      <td>6046.000000</td>\n",
       "      <td>4796.000000</td>\n",
       "      <td>4212.000000</td>\n",
       "      <td>4754.000000</td>\n",
       "      <td>3993.000000</td>\n",
       "      <td>4063.000000</td>\n",
       "      <td>6218.000000</td>\n",
       "      <td>6218.000000</td>\n",
       "      <td>3738.000000</td>\n",
       "      <td>3738.000000</td>\n",
       "    </tr>\n",
       "    <tr>\n",
       "      <th>mean</th>\n",
       "      <td>73.798971</td>\n",
       "      <td>243.372145</td>\n",
       "      <td>4.783784</td>\n",
       "      <td>32.818599</td>\n",
       "      <td>20.926163</td>\n",
       "      <td>113.943837</td>\n",
       "      <td>7.282307</td>\n",
       "      <td>4.390603</td>\n",
       "      <td>2009.041975</td>\n",
       "      <td>5.085719</td>\n",
       "      <td>3.838684</td>\n",
       "      <td>113.728464</td>\n",
       "    </tr>\n",
       "    <tr>\n",
       "      <th>std</th>\n",
       "      <td>2.621373</td>\n",
       "      <td>45.103814</td>\n",
       "      <td>0.305984</td>\n",
       "      <td>4.213729</td>\n",
       "      <td>6.393679</td>\n",
       "      <td>9.317031</td>\n",
       "      <td>0.422882</td>\n",
       "      <td>0.268836</td>\n",
       "      <td>5.471056</td>\n",
       "      <td>7.546556</td>\n",
       "      <td>1.952728</td>\n",
       "      <td>70.605155</td>\n",
       "    </tr>\n",
       "    <tr>\n",
       "      <th>min</th>\n",
       "      <td>65.000000</td>\n",
       "      <td>149.000000</td>\n",
       "      <td>4.220000</td>\n",
       "      <td>17.500000</td>\n",
       "      <td>2.000000</td>\n",
       "      <td>74.000000</td>\n",
       "      <td>6.280000</td>\n",
       "      <td>3.730000</td>\n",
       "      <td>2000.000000</td>\n",
       "      <td>-4.000000</td>\n",
       "      <td>1.000000</td>\n",
       "      <td>1.000000</td>\n",
       "    </tr>\n",
       "    <tr>\n",
       "      <th>25%</th>\n",
       "      <td>72.000000</td>\n",
       "      <td>206.000000</td>\n",
       "      <td>4.540000</td>\n",
       "      <td>30.000000</td>\n",
       "      <td>16.000000</td>\n",
       "      <td>108.000000</td>\n",
       "      <td>6.970000</td>\n",
       "      <td>4.190000</td>\n",
       "      <td>2004.000000</td>\n",
       "      <td>0.000000</td>\n",
       "      <td>2.000000</td>\n",
       "      <td>53.000000</td>\n",
       "    </tr>\n",
       "    <tr>\n",
       "      <th>50%</th>\n",
       "      <td>74.000000</td>\n",
       "      <td>233.000000</td>\n",
       "      <td>4.700000</td>\n",
       "      <td>33.000000</td>\n",
       "      <td>21.000000</td>\n",
       "      <td>115.000000</td>\n",
       "      <td>7.190000</td>\n",
       "      <td>4.350000</td>\n",
       "      <td>2009.000000</td>\n",
       "      <td>1.000000</td>\n",
       "      <td>4.000000</td>\n",
       "      <td>108.000000</td>\n",
       "    </tr>\n",
       "    <tr>\n",
       "      <th>75%</th>\n",
       "      <td>76.000000</td>\n",
       "      <td>281.000000</td>\n",
       "      <td>4.980000</td>\n",
       "      <td>35.500000</td>\n",
       "      <td>25.000000</td>\n",
       "      <td>121.000000</td>\n",
       "      <td>7.540000</td>\n",
       "      <td>4.560000</td>\n",
       "      <td>2014.000000</td>\n",
       "      <td>8.000000</td>\n",
       "      <td>5.000000</td>\n",
       "      <td>169.000000</td>\n",
       "    </tr>\n",
       "    <tr>\n",
       "      <th>max</th>\n",
       "      <td>82.000000</td>\n",
       "      <td>375.000000</td>\n",
       "      <td>6.050000</td>\n",
       "      <td>46.000000</td>\n",
       "      <td>49.000000</td>\n",
       "      <td>147.000000</td>\n",
       "      <td>9.120000</td>\n",
       "      <td>5.560000</td>\n",
       "      <td>2018.000000</td>\n",
       "      <td>51.000000</td>\n",
       "      <td>7.000000</td>\n",
       "      <td>260.000000</td>\n",
       "    </tr>\n",
       "  </tbody>\n",
       "</table>\n",
       "</div>"
      ],
      "text/plain": [
       "                Ht           Wt        Forty     Vertical    BenchReps  \\\n",
       "count  6218.000000  6218.000000  6046.000000  4796.000000  4212.000000   \n",
       "mean     73.798971   243.372145     4.783784    32.818599    20.926163   \n",
       "std       2.621373    45.103814     0.305984     4.213729     6.393679   \n",
       "min      65.000000   149.000000     4.220000    17.500000     2.000000   \n",
       "25%      72.000000   206.000000     4.540000    30.000000    16.000000   \n",
       "50%      74.000000   233.000000     4.700000    33.000000    21.000000   \n",
       "75%      76.000000   281.000000     4.980000    35.500000    25.000000   \n",
       "max      82.000000   375.000000     6.050000    46.000000    49.000000   \n",
       "\n",
       "         BroadJump         Cone      Shuttle         Year           AV  \\\n",
       "count  4754.000000  3993.000000  4063.000000  6218.000000  6218.000000   \n",
       "mean    113.943837     7.282307     4.390603  2009.041975     5.085719   \n",
       "std       9.317031     0.422882     0.268836     5.471056     7.546556   \n",
       "min      74.000000     6.280000     3.730000  2000.000000    -4.000000   \n",
       "25%     108.000000     6.970000     4.190000  2004.000000     0.000000   \n",
       "50%     115.000000     7.190000     4.350000  2009.000000     1.000000   \n",
       "75%     121.000000     7.540000     4.560000  2014.000000     8.000000   \n",
       "max     147.000000     9.120000     5.560000  2018.000000    51.000000   \n",
       "\n",
       "             Round         Pick  \n",
       "count  3738.000000  3738.000000  \n",
       "mean      3.838684   113.728464  \n",
       "std       1.952728    70.605155  \n",
       "min       1.000000     1.000000  \n",
       "25%       2.000000    53.000000  \n",
       "50%       4.000000   108.000000  \n",
       "75%       5.000000   169.000000  \n",
       "max       7.000000   260.000000  "
      ]
     },
     "execution_count": 6,
     "metadata": {},
     "output_type": "execute_result"
    }
   ],
   "source": [
    "combine_data.describe()"
   ]
  },
  {
   "cell_type": "code",
   "execution_count": 7,
   "metadata": {},
   "outputs": [],
   "source": [
    "def handle_missing_values(df, prop_required_column = .60, prop_required_row = .60):\n",
    "    threshold = int(round(prop_required_column*len(df.index),0))\n",
    "    df.dropna(axis=1, thresh=threshold, inplace=True)\n",
    "    threshold = int(round(prop_required_row*len(df.columns),0))\n",
    "    df.dropna(axis=0, thresh=threshold, inplace=True)\n",
    "    return df"
   ]
  },
  {
   "cell_type": "code",
   "execution_count": 8,
   "metadata": {},
   "outputs": [],
   "source": [
    "combine_data = handle_missing_values(combine_data)"
   ]
  },
  {
   "cell_type": "code",
   "execution_count": 9,
   "metadata": {},
   "outputs": [
    {
     "data": {
      "text/html": [
       "<div>\n",
       "<style scoped>\n",
       "    .dataframe tbody tr th:only-of-type {\n",
       "        vertical-align: middle;\n",
       "    }\n",
       "\n",
       "    .dataframe tbody tr th {\n",
       "        vertical-align: top;\n",
       "    }\n",
       "\n",
       "    .dataframe thead th {\n",
       "        text-align: right;\n",
       "    }\n",
       "</style>\n",
       "<table border=\"1\" class=\"dataframe\">\n",
       "  <thead>\n",
       "    <tr style=\"text-align: right;\">\n",
       "      <th></th>\n",
       "      <th>Player</th>\n",
       "      <th>Pos</th>\n",
       "      <th>Ht</th>\n",
       "      <th>Wt</th>\n",
       "      <th>Forty</th>\n",
       "      <th>Vertical</th>\n",
       "      <th>BenchReps</th>\n",
       "      <th>BroadJump</th>\n",
       "      <th>Cone</th>\n",
       "      <th>Shuttle</th>\n",
       "      <th>Year</th>\n",
       "      <th>Pfr_ID</th>\n",
       "      <th>AV</th>\n",
       "      <th>Team</th>\n",
       "      <th>Round</th>\n",
       "      <th>Pick</th>\n",
       "    </tr>\n",
       "  </thead>\n",
       "  <tbody>\n",
       "    <tr>\n",
       "      <th>0</th>\n",
       "      <td>John Abraham</td>\n",
       "      <td>OLB</td>\n",
       "      <td>76</td>\n",
       "      <td>252</td>\n",
       "      <td>4.55</td>\n",
       "      <td>NaN</td>\n",
       "      <td>NaN</td>\n",
       "      <td>NaN</td>\n",
       "      <td>NaN</td>\n",
       "      <td>NaN</td>\n",
       "      <td>2000</td>\n",
       "      <td>AbraJo00</td>\n",
       "      <td>26.0</td>\n",
       "      <td>New York Jets</td>\n",
       "      <td>1.0</td>\n",
       "      <td>13.0</td>\n",
       "    </tr>\n",
       "    <tr>\n",
       "      <th>1</th>\n",
       "      <td>Shaun Alexander</td>\n",
       "      <td>RB</td>\n",
       "      <td>72</td>\n",
       "      <td>218</td>\n",
       "      <td>4.58</td>\n",
       "      <td>NaN</td>\n",
       "      <td>NaN</td>\n",
       "      <td>NaN</td>\n",
       "      <td>NaN</td>\n",
       "      <td>NaN</td>\n",
       "      <td>2000</td>\n",
       "      <td>AlexSh00</td>\n",
       "      <td>26.0</td>\n",
       "      <td>Seattle Seahawks</td>\n",
       "      <td>1.0</td>\n",
       "      <td>19.0</td>\n",
       "    </tr>\n",
       "    <tr>\n",
       "      <th>2</th>\n",
       "      <td>Darnell Alford</td>\n",
       "      <td>OT</td>\n",
       "      <td>76</td>\n",
       "      <td>334</td>\n",
       "      <td>5.56</td>\n",
       "      <td>25.0</td>\n",
       "      <td>23.0</td>\n",
       "      <td>94.0</td>\n",
       "      <td>8.48</td>\n",
       "      <td>4.98</td>\n",
       "      <td>2000</td>\n",
       "      <td>AlfoDa20</td>\n",
       "      <td>0.0</td>\n",
       "      <td>Kansas City Chiefs</td>\n",
       "      <td>6.0</td>\n",
       "      <td>188.0</td>\n",
       "    </tr>\n",
       "    <tr>\n",
       "      <th>3</th>\n",
       "      <td>Kyle Allamon</td>\n",
       "      <td>TE</td>\n",
       "      <td>74</td>\n",
       "      <td>253</td>\n",
       "      <td>4.97</td>\n",
       "      <td>29.0</td>\n",
       "      <td>NaN</td>\n",
       "      <td>104.0</td>\n",
       "      <td>7.29</td>\n",
       "      <td>4.49</td>\n",
       "      <td>2000</td>\n",
       "      <td>NaN</td>\n",
       "      <td>0.0</td>\n",
       "      <td>NaN</td>\n",
       "      <td>NaN</td>\n",
       "      <td>NaN</td>\n",
       "    </tr>\n",
       "    <tr>\n",
       "      <th>4</th>\n",
       "      <td>Rashard Anderson</td>\n",
       "      <td>CB</td>\n",
       "      <td>74</td>\n",
       "      <td>206</td>\n",
       "      <td>4.55</td>\n",
       "      <td>34.0</td>\n",
       "      <td>NaN</td>\n",
       "      <td>123.0</td>\n",
       "      <td>7.18</td>\n",
       "      <td>4.15</td>\n",
       "      <td>2000</td>\n",
       "      <td>AndeRa21</td>\n",
       "      <td>6.0</td>\n",
       "      <td>Carolina Panthers</td>\n",
       "      <td>1.0</td>\n",
       "      <td>23.0</td>\n",
       "    </tr>\n",
       "    <tr>\n",
       "      <th>...</th>\n",
       "      <td>...</td>\n",
       "      <td>...</td>\n",
       "      <td>...</td>\n",
       "      <td>...</td>\n",
       "      <td>...</td>\n",
       "      <td>...</td>\n",
       "      <td>...</td>\n",
       "      <td>...</td>\n",
       "      <td>...</td>\n",
       "      <td>...</td>\n",
       "      <td>...</td>\n",
       "      <td>...</td>\n",
       "      <td>...</td>\n",
       "      <td>...</td>\n",
       "      <td>...</td>\n",
       "      <td>...</td>\n",
       "    </tr>\n",
       "    <tr>\n",
       "      <th>6212</th>\n",
       "      <td>Logan Woodside</td>\n",
       "      <td>QB</td>\n",
       "      <td>73</td>\n",
       "      <td>213</td>\n",
       "      <td>4.79</td>\n",
       "      <td>31.5</td>\n",
       "      <td>NaN</td>\n",
       "      <td>103.0</td>\n",
       "      <td>6.94</td>\n",
       "      <td>4.15</td>\n",
       "      <td>2018</td>\n",
       "      <td>WoodLo00</td>\n",
       "      <td>0.0</td>\n",
       "      <td>NaN</td>\n",
       "      <td>NaN</td>\n",
       "      <td>NaN</td>\n",
       "    </tr>\n",
       "    <tr>\n",
       "      <th>6213</th>\n",
       "      <td>Chris Worley</td>\n",
       "      <td>ILB</td>\n",
       "      <td>74</td>\n",
       "      <td>238</td>\n",
       "      <td>4.86</td>\n",
       "      <td>29.5</td>\n",
       "      <td>15.0</td>\n",
       "      <td>NaN</td>\n",
       "      <td>NaN</td>\n",
       "      <td>NaN</td>\n",
       "      <td>2018</td>\n",
       "      <td>WorlCh00</td>\n",
       "      <td>0.0</td>\n",
       "      <td>NaN</td>\n",
       "      <td>NaN</td>\n",
       "      <td>NaN</td>\n",
       "    </tr>\n",
       "    <tr>\n",
       "      <th>6215</th>\n",
       "      <td>Isaac Yiadom</td>\n",
       "      <td>CB</td>\n",
       "      <td>73</td>\n",
       "      <td>190</td>\n",
       "      <td>4.52</td>\n",
       "      <td>NaN</td>\n",
       "      <td>8.0</td>\n",
       "      <td>120.0</td>\n",
       "      <td>NaN</td>\n",
       "      <td>4.18</td>\n",
       "      <td>2018</td>\n",
       "      <td>YiadIs00</td>\n",
       "      <td>0.0</td>\n",
       "      <td>NaN</td>\n",
       "      <td>NaN</td>\n",
       "      <td>NaN</td>\n",
       "    </tr>\n",
       "    <tr>\n",
       "      <th>6216</th>\n",
       "      <td>Kenny Young</td>\n",
       "      <td>ILB</td>\n",
       "      <td>73</td>\n",
       "      <td>236</td>\n",
       "      <td>4.60</td>\n",
       "      <td>36.0</td>\n",
       "      <td>23.0</td>\n",
       "      <td>117.0</td>\n",
       "      <td>7.38</td>\n",
       "      <td>4.48</td>\n",
       "      <td>2018</td>\n",
       "      <td>NaN</td>\n",
       "      <td>0.0</td>\n",
       "      <td>NaN</td>\n",
       "      <td>NaN</td>\n",
       "      <td>NaN</td>\n",
       "    </tr>\n",
       "    <tr>\n",
       "      <th>6217</th>\n",
       "      <td>Trevon Young</td>\n",
       "      <td>EDGE</td>\n",
       "      <td>76</td>\n",
       "      <td>258</td>\n",
       "      <td>4.78</td>\n",
       "      <td>33.0</td>\n",
       "      <td>25.0</td>\n",
       "      <td>114.0</td>\n",
       "      <td>6.99</td>\n",
       "      <td>4.40</td>\n",
       "      <td>2018</td>\n",
       "      <td>YounTr00</td>\n",
       "      <td>0.0</td>\n",
       "      <td>NaN</td>\n",
       "      <td>NaN</td>\n",
       "      <td>NaN</td>\n",
       "    </tr>\n",
       "  </tbody>\n",
       "</table>\n",
       "<p>5565 rows × 16 columns</p>\n",
       "</div>"
      ],
      "text/plain": [
       "                Player   Pos  Ht   Wt  Forty  Vertical  BenchReps  BroadJump  \\\n",
       "0         John Abraham   OLB  76  252   4.55       NaN        NaN        NaN   \n",
       "1      Shaun Alexander    RB  72  218   4.58       NaN        NaN        NaN   \n",
       "2       Darnell Alford    OT  76  334   5.56      25.0       23.0       94.0   \n",
       "3         Kyle Allamon    TE  74  253   4.97      29.0        NaN      104.0   \n",
       "4     Rashard Anderson    CB  74  206   4.55      34.0        NaN      123.0   \n",
       "...                ...   ...  ..  ...    ...       ...        ...        ...   \n",
       "6212    Logan Woodside    QB  73  213   4.79      31.5        NaN      103.0   \n",
       "6213      Chris Worley   ILB  74  238   4.86      29.5       15.0        NaN   \n",
       "6215      Isaac Yiadom    CB  73  190   4.52       NaN        8.0      120.0   \n",
       "6216       Kenny Young   ILB  73  236   4.60      36.0       23.0      117.0   \n",
       "6217      Trevon Young  EDGE  76  258   4.78      33.0       25.0      114.0   \n",
       "\n",
       "      Cone  Shuttle  Year    Pfr_ID    AV                Team  Round   Pick  \n",
       "0      NaN      NaN  2000  AbraJo00  26.0       New York Jets    1.0   13.0  \n",
       "1      NaN      NaN  2000  AlexSh00  26.0    Seattle Seahawks    1.0   19.0  \n",
       "2     8.48     4.98  2000  AlfoDa20   0.0  Kansas City Chiefs    6.0  188.0  \n",
       "3     7.29     4.49  2000       NaN   0.0                 NaN    NaN    NaN  \n",
       "4     7.18     4.15  2000  AndeRa21   6.0   Carolina Panthers    1.0   23.0  \n",
       "...    ...      ...   ...       ...   ...                 ...    ...    ...  \n",
       "6212  6.94     4.15  2018  WoodLo00   0.0                 NaN    NaN    NaN  \n",
       "6213   NaN      NaN  2018  WorlCh00   0.0                 NaN    NaN    NaN  \n",
       "6215   NaN     4.18  2018  YiadIs00   0.0                 NaN    NaN    NaN  \n",
       "6216  7.38     4.48  2018       NaN   0.0                 NaN    NaN    NaN  \n",
       "6217  6.99     4.40  2018  YounTr00   0.0                 NaN    NaN    NaN  \n",
       "\n",
       "[5565 rows x 16 columns]"
      ]
     },
     "execution_count": 9,
     "metadata": {},
     "output_type": "execute_result"
    }
   ],
   "source": [
    "combine_data"
   ]
  },
  {
   "cell_type": "code",
   "execution_count": 10,
   "metadata": {},
   "outputs": [
    {
     "data": {
      "text/plain": [
       "Player          0\n",
       "Pos             0\n",
       "Ht              0\n",
       "Wt              0\n",
       "Forty          74\n",
       "Vertical      843\n",
       "BenchReps    1599\n",
       "BroadJump     873\n",
       "Cone         1577\n",
       "Shuttle      1509\n",
       "Year            0\n",
       "Pfr_ID        940\n",
       "AV              0\n",
       "Team         1828\n",
       "Round        1828\n",
       "Pick         1828\n",
       "dtype: int64"
      ]
     },
     "execution_count": 10,
     "metadata": {},
     "output_type": "execute_result"
    }
   ],
   "source": [
    "combine_data.isnull().sum()"
   ]
  },
  {
   "cell_type": "code",
   "execution_count": 11,
   "metadata": {},
   "outputs": [],
   "source": [
    "combine_data = combine_data.dropna()"
   ]
  },
  {
   "cell_type": "code",
   "execution_count": 12,
   "metadata": {
    "scrolled": true
   },
   "outputs": [
    {
     "data": {
      "text/plain": [
       "Player       0\n",
       "Pos          0\n",
       "Ht           0\n",
       "Wt           0\n",
       "Forty        0\n",
       "Vertical     0\n",
       "BenchReps    0\n",
       "BroadJump    0\n",
       "Cone         0\n",
       "Shuttle      0\n",
       "Year         0\n",
       "Pfr_ID       0\n",
       "AV           0\n",
       "Team         0\n",
       "Round        0\n",
       "Pick         0\n",
       "dtype: int64"
      ]
     },
     "execution_count": 12,
     "metadata": {},
     "output_type": "execute_result"
    }
   ],
   "source": [
    "combine_data.isnull().sum()"
   ]
  },
  {
   "cell_type": "code",
   "execution_count": 13,
   "metadata": {},
   "outputs": [
    {
     "data": {
      "image/png": "[encoded data removed]",
      "text/plain": [
       "<Figure size 288x144 with 1 Axes>"
      ]
     },
     "metadata": {
      "needs_background": "light"
     },
     "output_type": "display_data"
    },
    {
     "data": {
      "image/png": "[encoded data removed]",
      "text/plain": [
       "<Figure size 288x144 with 1 Axes>"
      ]
     },
     "metadata": {
      "needs_background": "light"
     },
     "output_type": "display_data"
    },
    {
     "data": {
      "image/png": "[encoded data removed]",
      "text/plain": [
       "<Figure size 288x144 with 1 Axes>"
      ]
     },
     "metadata": {
      "needs_background": "light"
     },
     "output_type": "display_data"
    },
    {
     "data": {
      "image/png": "[encoded data removed]",
      "text/plain": [
       "<Figure size 288x144 with 1 Axes>"
      ]
     },
     "metadata": {
      "needs_background": "light"
     },
     "output_type": "display_data"
    },
    {
     "data": {
      "image/png": "[encoded data removed]",
      "text/plain": [
       "<Figure size 288x144 with 1 Axes>"
      ]
     },
     "metadata": {
      "needs_background": "light"
     },
     "output_type": "display_data"
    },
    {
     "data": {
      "image/png": "[encoded data removed]",
      "text/plain": [
       "<Figure size 288x144 with 1 Axes>"
      ]
     },
     "metadata": {
      "needs_background": "light"
     },
     "output_type": "display_data"
    },
    {
     "data": {
      "image/png": "[encoded data removed]",
      "text/plain": [
       "<Figure size 288x144 with 1 Axes>"
      ]
     },
     "metadata": {
      "needs_background": "light"
     },
     "output_type": "display_data"
    },
    {
     "data": {
      "image/png": "[encoded data removed]",
      "text/plain": [
       "<Figure size 288x144 with 1 Axes>"
      ]
     },
     "metadata": {
      "needs_background": "light"
     },
     "output_type": "display_data"
    },
    {
     "data": {
      "image/png": "[encoded data removed]",
      "text/plain": [
       "<Figure size 288x144 with 1 Axes>"
      ]
     },
     "metadata": {
      "needs_background": "light"
     },
     "output_type": "display_data"
    },
    {
     "data": {
      "image/png": "[encoded data removed]",
      "text/plain": [
       "<Figure size 288x144 with 1 Axes>"
      ]
     },
     "metadata": {
      "needs_background": "light"
     },
     "output_type": "display_data"
    },
    {
     "data": {
      "image/png": "[encoded data removed]",
      "text/plain": [
       "<Figure size 288x144 with 1 Axes>"
      ]
     },
     "metadata": {
      "needs_background": "light"
     },
     "output_type": "display_data"
    },
    {
     "data": {
      "image/png": "[encoded data removed]",
      "text/plain": [
       "<Figure size 288x144 with 1 Axes>"
      ]
     },
     "metadata": {
      "needs_background": "light"
     },
     "output_type": "display_data"
    },
    {
     "data": {
      "image/png": "[encoded data removed]",
      "text/plain": [
       "<Figure size 288x144 with 1 Axes>"
      ]
     },
     "metadata": {
      "needs_background": "light"
     },
     "output_type": "display_data"
    },
    {
     "data": {
      "image/png": "[encoded data removed]",
      "text/plain": [
       "<Figure size 288x144 with 1 Axes>"
      ]
     },
     "metadata": {
      "needs_background": "light"
     },
     "output_type": "display_data"
    },
    {
     "data": {
      "image/png": "[encoded data removed]",
      "text/plain": [
       "<Figure size 288x144 with 1 Axes>"
      ]
     },
     "metadata": {
      "needs_background": "light"
     },
     "output_type": "display_data"
    },
    {
     "data": {
      "image/png": "[encoded data removed]",
      "text/plain": [
       "<Figure size 288x144 with 1 Axes>"
      ]
     },
     "metadata": {
      "needs_background": "light"
     },
     "output_type": "display_data"
    }
   ],
   "source": [
    "for col in combine_data.columns:\n",
    "    plt.figure(figsize=(4,2))\n",
    "    plt.hist(combine_data[col])\n",
    "    plt.title(col)\n",
    "    plt.show()"
   ]
  },
  {
   "cell_type": "code",
   "execution_count": 14,
   "metadata": {},
   "outputs": [],
   "source": [
    "from sklearn.model_selection import train_test_split\n",
    "from sklearn.impute import SimpleImputer\n",
    "from sklearn.preprocessing import MinMaxScaler, RobustScaler, StandardScaler\n",
    "import sklearn.preprocessing"
   ]
  },
  {
   "cell_type": "code",
   "execution_count": 15,
   "metadata": {},
   "outputs": [],
   "source": [
    "def train_validate_test(df):\n",
    "    '''\n",
    "    this function takes in a dataframe and splits it into 3 samples, \n",
    "    a test, which is 30% of the entire dataframe, \n",
    "    a validate, which is 28% of the entire dataframe,\n",
    "    and a train, which is 42% of the entire dataframe. \n",
    "    It then splits each of the 3 samples into a dataframe with independent variables\n",
    "    and a series with the dependent, or target variable. \n",
    "    The function returns 3 dataframes and 3 series:\n",
    "    X_train (df) & y_train (series), X_validate & y_validate, X_test & y_test. \n",
    "    '''\n",
    "    # split df into test (30%) and train_validate (70%)\n",
    "    train_validate, test = train_test_split(df, test_size=.3, random_state=123)\n",
    "\n",
    "    # split train_validate off into train (60% of 70% = 42%) and validate (40% of 70% = 28%)\n",
    "    train, validate = train_test_split(train_validate, test_size=.4, random_state=123)\n",
    "\n",
    "        \n",
    "    # split train into X (dataframe, drop target) & y (series, keep target only)\n",
    "    X_train = train.drop(columns= ['Pick', 'Pfr_ID'])\n",
    "    X_validate = validate.drop(columns= ['Pick', 'Pfr_ID'])\n",
    "    X_test = test.drop(columns= ['Pick', 'Pfr_ID'])\n",
    "\n",
    "    y_train = train[['Pick']]\n",
    "    y_validate = validate[['Pick']]\n",
    "    y_test = test[['Pick']]\n",
    "    return X_train, y_train, X_validate, y_validate, X_test, y_test"
   ]
  },
  {
   "cell_type": "code",
   "execution_count": 16,
   "metadata": {},
   "outputs": [],
   "source": [
    "X_train, y_train, X_validate, y_validate, X_test, y_test = train_validate_test(combine_data)"
   ]
  },
  {
   "cell_type": "code",
   "execution_count": 17,
   "metadata": {},
   "outputs": [],
   "source": [
    "def min_max_scale(X_train, X_validate, X_test):\n",
    "    '''\n",
    "    this function takes in 3 dataframes with the same columns, \n",
    "    a list of numeric column names (because the scaler can only work with numeric columns),\n",
    "    and fits a min-max scaler to the first dataframe and transforms all\n",
    "    3 dataframes using that scaler. \n",
    "    it returns 3 dataframes with the same column names and scaled values. \n",
    "    '''\n",
    "    # create the scaler object and fit it to X_train (i.e. identify min and max)\n",
    "    # if copy = false, inplace row normalization happens and avoids a copy (if the input is already a numpy array).\n",
    "    X_train = X_train.drop(columns= ['Team', 'Player', 'Pos', 'Round', 'Year'])\n",
    "    X_validate = X_validate.drop(columns= ['Team', 'Player', 'Pos', 'Round', 'Year'])\n",
    "    X_test = X_test.drop(columns= ['Team', 'Player', 'Pos', 'Round', 'Year'])\n",
    "    \n",
    "    scaler = MinMaxScaler(copy = True).fit(X_train)\n",
    "\n",
    "    X_train_scaled = scaler.transform(X_train)\n",
    "    X_validate_scaled = scaler.transform(X_validate)\n",
    "    X_test_scaled = scaler.transform(X_test)\n",
    "    X_train_scaled = pd.DataFrame(X_train_scaled, columns = X_train.columns.values).set_index([X_train.index.values])\n",
    "    X_validate_scaled = pd.DataFrame(X_validate_scaled, columns = X_validate.columns.values).set_index([X_validate.index.values])\n",
    "    X_test_scaled = pd.DataFrame(X_test_scaled, columns = X_test.columns.values).set_index([X_test.index.values])\n",
    "\n",
    "    \n",
    "    return X_train_scaled, X_validate_scaled, X_test_scaled"
   ]
  },
  {
   "cell_type": "code",
   "execution_count": 18,
   "metadata": {},
   "outputs": [],
   "source": [
    "X_train_scaled, X_validate_scaled, X_test_scaled = min_max_scale(X_train, X_validate, X_test)"
   ]
  },
  {
   "cell_type": "code",
   "execution_count": 19,
   "metadata": {},
   "outputs": [
    {
     "data": {
      "text/html": [
       "<div>\n",
       "<style scoped>\n",
       "    .dataframe tbody tr th:only-of-type {\n",
       "        vertical-align: middle;\n",
       "    }\n",
       "\n",
       "    .dataframe tbody tr th {\n",
       "        vertical-align: top;\n",
       "    }\n",
       "\n",
       "    .dataframe thead th {\n",
       "        text-align: right;\n",
       "    }\n",
       "</style>\n",
       "<table border=\"1\" class=\"dataframe\">\n",
       "  <thead>\n",
       "    <tr style=\"text-align: right;\">\n",
       "      <th></th>\n",
       "      <th>Ht</th>\n",
       "      <th>Wt</th>\n",
       "      <th>Forty</th>\n",
       "      <th>Vertical</th>\n",
       "      <th>BenchReps</th>\n",
       "      <th>BroadJump</th>\n",
       "      <th>Cone</th>\n",
       "      <th>Shuttle</th>\n",
       "      <th>AV</th>\n",
       "    </tr>\n",
       "  </thead>\n",
       "  <tbody>\n",
       "    <tr>\n",
       "      <th>5436</th>\n",
       "      <td>0.384615</td>\n",
       "      <td>0.131313</td>\n",
       "      <td>0.126866</td>\n",
       "      <td>0.688889</td>\n",
       "      <td>0.309524</td>\n",
       "      <td>0.829787</td>\n",
       "      <td>0.182540</td>\n",
       "      <td>0.375887</td>\n",
       "      <td>0.083333</td>\n",
       "    </tr>\n",
       "    <tr>\n",
       "      <th>4551</th>\n",
       "      <td>0.384615</td>\n",
       "      <td>0.207071</td>\n",
       "      <td>0.134328</td>\n",
       "      <td>0.688889</td>\n",
       "      <td>0.547619</td>\n",
       "      <td>0.638298</td>\n",
       "      <td>0.210317</td>\n",
       "      <td>0.312057</td>\n",
       "      <td>0.104167</td>\n",
       "    </tr>\n",
       "    <tr>\n",
       "      <th>2445</th>\n",
       "      <td>0.692308</td>\n",
       "      <td>0.575758</td>\n",
       "      <td>0.522388</td>\n",
       "      <td>0.333333</td>\n",
       "      <td>0.595238</td>\n",
       "      <td>0.382979</td>\n",
       "      <td>0.519841</td>\n",
       "      <td>0.460993</td>\n",
       "      <td>0.166667</td>\n",
       "    </tr>\n",
       "    <tr>\n",
       "      <th>3077</th>\n",
       "      <td>0.461538</td>\n",
       "      <td>0.297980</td>\n",
       "      <td>0.179104</td>\n",
       "      <td>0.600000</td>\n",
       "      <td>0.642857</td>\n",
       "      <td>0.638298</td>\n",
       "      <td>0.150794</td>\n",
       "      <td>0.276596</td>\n",
       "      <td>0.208333</td>\n",
       "    </tr>\n",
       "    <tr>\n",
       "      <th>4648</th>\n",
       "      <td>0.692308</td>\n",
       "      <td>0.712121</td>\n",
       "      <td>0.723881</td>\n",
       "      <td>0.288889</td>\n",
       "      <td>0.571429</td>\n",
       "      <td>0.191489</td>\n",
       "      <td>0.583333</td>\n",
       "      <td>0.716312</td>\n",
       "      <td>0.000000</td>\n",
       "    </tr>\n",
       "  </tbody>\n",
       "</table>\n",
       "</div>"
      ],
      "text/plain": [
       "            Ht        Wt     Forty  Vertical  BenchReps  BroadJump      Cone  \\\n",
       "5436  0.384615  0.131313  0.126866  0.688889   0.309524   0.829787  0.182540   \n",
       "4551  0.384615  0.207071  0.134328  0.688889   0.547619   0.638298  0.210317   \n",
       "2445  0.692308  0.575758  0.522388  0.333333   0.595238   0.382979  0.519841   \n",
       "3077  0.461538  0.297980  0.179104  0.600000   0.642857   0.638298  0.150794   \n",
       "4648  0.692308  0.712121  0.723881  0.288889   0.571429   0.191489  0.583333   \n",
       "\n",
       "       Shuttle        AV  \n",
       "5436  0.375887  0.083333  \n",
       "4551  0.312057  0.104167  \n",
       "2445  0.460993  0.166667  \n",
       "3077  0.276596  0.208333  \n",
       "4648  0.716312  0.000000  "
      ]
     },
     "execution_count": 19,
     "metadata": {},
     "output_type": "execute_result"
    }
   ],
   "source": [
    "X_train_scaled.head()"
   ]
  },
  {
   "cell_type": "code",
   "execution_count": 20,
   "metadata": {},
   "outputs": [
    {
     "data": {
      "text/plain": [
       "KMeans(n_clusters=3)"
      ]
     },
     "execution_count": 20,
     "metadata": {},
     "output_type": "execute_result"
    }
   ],
   "source": [
    "#Import kmeans to create clusters on the selected features\n",
    "from sklearn.cluster import KMeans\n",
    "X1 = X_train_scaled[['Ht', 'Wt', 'Forty', 'Vertical']]\n",
    "X2 = X_validate_scaled[['Ht', 'Wt', 'Forty', 'Vertical']]\n",
    "X3 = X_test_scaled[['Ht', 'Wt', 'Forty', 'Vertical']]\n",
    "kmeans = KMeans(n_clusters=3)\n",
    "kmeans.fit(X1)"
   ]
  },
  {
   "cell_type": "code",
   "execution_count": 21,
   "metadata": {},
   "outputs": [
    {
     "data": {
      "text/plain": [
       "(750, 4)"
      ]
     },
     "execution_count": 21,
     "metadata": {},
     "output_type": "execute_result"
    }
   ],
   "source": [
    "X1.shape"
   ]
  },
  {
   "cell_type": "code",
   "execution_count": 22,
   "metadata": {},
   "outputs": [],
   "source": [
    "X_train_scaled['cluster'] = kmeans.predict(X1)\n",
    "X_train['cluster'] = kmeans.predict(X1)\n",
    "X_validate_scaled['cluster'] = kmeans.predict(X2)\n",
    "X_validate['cluster'] = kmeans.predict(X2)\n",
    "X_test_scaled['cluster'] = kmeans.predict(X3)\n",
    "X_test['cluster'] = kmeans.predict(X3)"
   ]
  },
  {
   "cell_type": "code",
   "execution_count": 23,
   "metadata": {},
   "outputs": [
    {
     "data": {
      "text/html": [
       "<div>\n",
       "<style scoped>\n",
       "    .dataframe tbody tr th:only-of-type {\n",
       "        vertical-align: middle;\n",
       "    }\n",
       "\n",
       "    .dataframe tbody tr th {\n",
       "        vertical-align: top;\n",
       "    }\n",
       "\n",
       "    .dataframe thead tr th {\n",
       "        text-align: left;\n",
       "    }\n",
       "\n",
       "    .dataframe thead tr:last-of-type th {\n",
       "        text-align: right;\n",
       "    }\n",
       "</style>\n",
       "<table border=\"1\" class=\"dataframe\">\n",
       "  <thead>\n",
       "    <tr>\n",
       "      <th></th>\n",
       "      <th colspan=\"8\" halign=\"left\">Ht</th>\n",
       "      <th colspan=\"2\" halign=\"left\">Wt</th>\n",
       "      <th>...</th>\n",
       "      <th colspan=\"2\" halign=\"left\">AV</th>\n",
       "      <th colspan=\"8\" halign=\"left\">Round</th>\n",
       "    </tr>\n",
       "    <tr>\n",
       "      <th></th>\n",
       "      <th>count</th>\n",
       "      <th>mean</th>\n",
       "      <th>std</th>\n",
       "      <th>min</th>\n",
       "      <th>25%</th>\n",
       "      <th>50%</th>\n",
       "      <th>75%</th>\n",
       "      <th>max</th>\n",
       "      <th>count</th>\n",
       "      <th>mean</th>\n",
       "      <th>...</th>\n",
       "      <th>75%</th>\n",
       "      <th>max</th>\n",
       "      <th>count</th>\n",
       "      <th>mean</th>\n",
       "      <th>std</th>\n",
       "      <th>min</th>\n",
       "      <th>25%</th>\n",
       "      <th>50%</th>\n",
       "      <th>75%</th>\n",
       "      <th>max</th>\n",
       "    </tr>\n",
       "    <tr>\n",
       "      <th>cluster</th>\n",
       "      <th></th>\n",
       "      <th></th>\n",
       "      <th></th>\n",
       "      <th></th>\n",
       "      <th></th>\n",
       "      <th></th>\n",
       "      <th></th>\n",
       "      <th></th>\n",
       "      <th></th>\n",
       "      <th></th>\n",
       "      <th></th>\n",
       "      <th></th>\n",
       "      <th></th>\n",
       "      <th></th>\n",
       "      <th></th>\n",
       "      <th></th>\n",
       "      <th></th>\n",
       "      <th></th>\n",
       "      <th></th>\n",
       "      <th></th>\n",
       "      <th></th>\n",
       "    </tr>\n",
       "  </thead>\n",
       "  <tbody>\n",
       "    <tr>\n",
       "      <th>0</th>\n",
       "      <td>206.0</td>\n",
       "      <td>76.485437</td>\n",
       "      <td>1.585693</td>\n",
       "      <td>72.0</td>\n",
       "      <td>75.0</td>\n",
       "      <td>76.0</td>\n",
       "      <td>78.0</td>\n",
       "      <td>80.0</td>\n",
       "      <td>206.0</td>\n",
       "      <td>312.000000</td>\n",
       "      <td>...</td>\n",
       "      <td>14.0</td>\n",
       "      <td>36.0</td>\n",
       "      <td>206.0</td>\n",
       "      <td>3.883495</td>\n",
       "      <td>2.063863</td>\n",
       "      <td>1.0</td>\n",
       "      <td>2.0</td>\n",
       "      <td>4.0</td>\n",
       "      <td>6.0</td>\n",
       "      <td>7.0</td>\n",
       "    </tr>\n",
       "    <tr>\n",
       "      <th>1</th>\n",
       "      <td>313.0</td>\n",
       "      <td>71.498403</td>\n",
       "      <td>1.643021</td>\n",
       "      <td>67.0</td>\n",
       "      <td>70.0</td>\n",
       "      <td>72.0</td>\n",
       "      <td>73.0</td>\n",
       "      <td>76.0</td>\n",
       "      <td>313.0</td>\n",
       "      <td>206.364217</td>\n",
       "      <td>...</td>\n",
       "      <td>12.0</td>\n",
       "      <td>48.0</td>\n",
       "      <td>313.0</td>\n",
       "      <td>3.929712</td>\n",
       "      <td>1.808503</td>\n",
       "      <td>1.0</td>\n",
       "      <td>3.0</td>\n",
       "      <td>4.0</td>\n",
       "      <td>5.0</td>\n",
       "      <td>7.0</td>\n",
       "    </tr>\n",
       "    <tr>\n",
       "      <th>2</th>\n",
       "      <td>231.0</td>\n",
       "      <td>75.216450</td>\n",
       "      <td>1.595071</td>\n",
       "      <td>71.0</td>\n",
       "      <td>74.0</td>\n",
       "      <td>75.0</td>\n",
       "      <td>76.0</td>\n",
       "      <td>80.0</td>\n",
       "      <td>231.0</td>\n",
       "      <td>260.043290</td>\n",
       "      <td>...</td>\n",
       "      <td>13.0</td>\n",
       "      <td>45.0</td>\n",
       "      <td>231.0</td>\n",
       "      <td>3.731602</td>\n",
       "      <td>2.016626</td>\n",
       "      <td>1.0</td>\n",
       "      <td>2.0</td>\n",
       "      <td>3.0</td>\n",
       "      <td>5.0</td>\n",
       "      <td>7.0</td>\n",
       "    </tr>\n",
       "  </tbody>\n",
       "</table>\n",
       "<p>3 rows × 88 columns</p>\n",
       "</div>"
      ],
      "text/plain": [
       "            Ht                                                        Wt  \\\n",
       "         count       mean       std   min   25%   50%   75%   max  count   \n",
       "cluster                                                                    \n",
       "0        206.0  76.485437  1.585693  72.0  75.0  76.0  78.0  80.0  206.0   \n",
       "1        313.0  71.498403  1.643021  67.0  70.0  72.0  73.0  76.0  313.0   \n",
       "2        231.0  75.216450  1.595071  71.0  74.0  75.0  76.0  80.0  231.0   \n",
       "\n",
       "                     ...    AV        Round                                \\\n",
       "               mean  ...   75%   max  count      mean       std  min  25%   \n",
       "cluster              ...                                                    \n",
       "0        312.000000  ...  14.0  36.0  206.0  3.883495  2.063863  1.0  2.0   \n",
       "1        206.364217  ...  12.0  48.0  313.0  3.929712  1.808503  1.0  3.0   \n",
       "2        260.043290  ...  13.0  45.0  231.0  3.731602  2.016626  1.0  2.0   \n",
       "\n",
       "                        \n",
       "         50%  75%  max  \n",
       "cluster                 \n",
       "0        4.0  6.0  7.0  \n",
       "1        4.0  5.0  7.0  \n",
       "2        3.0  5.0  7.0  \n",
       "\n",
       "[3 rows x 88 columns]"
      ]
     },
     "execution_count": 23,
     "metadata": {},
     "output_type": "execute_result"
    }
   ],
   "source": [
    "X_train.groupby('cluster').describe()"
   ]
  },
  {
   "cell_type": "code",
   "execution_count": 24,
   "metadata": {},
   "outputs": [
    {
     "data": {
      "text/plain": [
       "cluster\n",
       "0    206\n",
       "1    313\n",
       "2    231\n",
       "dtype: int64"
      ]
     },
     "execution_count": 24,
     "metadata": {},
     "output_type": "execute_result"
    }
   ],
   "source": [
    "X_train_scaled.groupby('cluster').size()"
   ]
  },
  {
   "cell_type": "code",
   "execution_count": 25,
   "metadata": {},
   "outputs": [
    {
     "data": {
      "text/plain": [
       "[Text(0, 0.5, 'Forty Time'), Text(0.5, 0, 'Vertical')]"
      ]
     },
     "execution_count": 25,
     "metadata": {},
     "output_type": "execute_result"
    },
    {
     "data": {
      "image/png": "[encoded data removed]",
      "text/plain": [
       "<Figure size 936x504 with 1 Axes>"
      ]
     },
     "metadata": {
      "needs_background": "light"
     },
     "output_type": "display_data"
    }
   ],
   "source": [
    "fig, ax = plt.subplots(figsize=(13, 7))\n",
    "\n",
    "for cluster, subset in X_train.groupby('cluster'):\n",
    "    ax.scatter(subset.Vertical, subset.Forty, label=cluster)\n",
    "ax.legend(title='cluster')\n",
    "ax.set(ylabel='Forty Time', xlabel='Vertical')"
   ]
  },
  {
   "cell_type": "code",
   "execution_count": 26,
   "metadata": {},
   "outputs": [
    {
     "data": {
      "text/plain": [
       "35.6056303242313"
      ]
     },
     "execution_count": 26,
     "metadata": {},
     "output_type": "execute_result"
    }
   ],
   "source": [
    "kmeans.inertia_"
   ]
  },
  {
   "cell_type": "code",
   "execution_count": 27,
   "metadata": {},
   "outputs": [
    {
     "data": {
      "image/png": "[encoded data removed]",
      "text/plain": [
       "<Figure size 936x504 with 1 Axes>"
      ]
     },
     "metadata": {
      "needs_background": "light"
     },
     "output_type": "display_data"
    }
   ],
   "source": [
    "output = {}\n",
    "\n",
    "for k in range(1, 12):\n",
    "    kmeans = KMeans(n_clusters=k)\n",
    "    kmeans.fit(X1)\n",
    "    output[k] = kmeans.inertia_\n",
    "\n",
    "ax = pd.Series(output).plot(figsize=(13, 7))\n",
    "ax.set(xlabel='k', ylabel='inertia', xticks=range(1, 12), title='The elbow method for determining k')\n",
    "ax.grid()"
   ]
  },
  {
   "cell_type": "code",
   "execution_count": 28,
   "metadata": {},
   "outputs": [
    {
     "data": {
      "text/plain": [
       "Text(0.5, 1.0, 'Player Ht vs Wt by Clusters')"
      ]
     },
     "execution_count": 28,
     "metadata": {},
     "output_type": "execute_result"
    },
    {
     "data": {
      "image/png": "[encoded data removed]",
      "text/plain": [
       "<Figure size 432x288 with 1 Axes>"
      ]
     },
     "metadata": {
      "needs_background": "light"
     },
     "output_type": "display_data"
    }
   ],
   "source": [
    "import seaborn as sns\n",
    "\n",
    "sns.scatterplot(x='Wt', y='Ht', hue='cluster', data=X_train, palette='tab10')\n",
    "plt.ylabel('Player Height')\n",
    "plt.xlabel('Player Weight')\n",
    "plt.gcf().axes[0].yaxis.get_major_formatter().set_scientific(False)\n",
    "plt.title('Player Ht vs Wt by Clusters')"
   ]
  },
  {
   "cell_type": "code",
   "execution_count": 29,
   "metadata": {},
   "outputs": [
    {
     "data": {
      "text/html": [
       "<div>\n",
       "<style scoped>\n",
       "    .dataframe tbody tr th:only-of-type {\n",
       "        vertical-align: middle;\n",
       "    }\n",
       "\n",
       "    .dataframe tbody tr th {\n",
       "        vertical-align: top;\n",
       "    }\n",
       "\n",
       "    .dataframe thead th {\n",
       "        text-align: right;\n",
       "    }\n",
       "</style>\n",
       "<table border=\"1\" class=\"dataframe\">\n",
       "  <thead>\n",
       "    <tr style=\"text-align: right;\">\n",
       "      <th></th>\n",
       "      <th>Ht</th>\n",
       "      <th>Wt</th>\n",
       "      <th>Forty</th>\n",
       "      <th>Vertical</th>\n",
       "      <th>BenchReps</th>\n",
       "      <th>BroadJump</th>\n",
       "      <th>Cone</th>\n",
       "      <th>Shuttle</th>\n",
       "      <th>AV</th>\n",
       "      <th>cluster</th>\n",
       "    </tr>\n",
       "  </thead>\n",
       "  <tbody>\n",
       "    <tr>\n",
       "      <th>5436</th>\n",
       "      <td>0.384615</td>\n",
       "      <td>0.131313</td>\n",
       "      <td>0.126866</td>\n",
       "      <td>0.688889</td>\n",
       "      <td>0.309524</td>\n",
       "      <td>0.829787</td>\n",
       "      <td>0.182540</td>\n",
       "      <td>0.375887</td>\n",
       "      <td>0.083333</td>\n",
       "      <td>1</td>\n",
       "    </tr>\n",
       "    <tr>\n",
       "      <th>4551</th>\n",
       "      <td>0.384615</td>\n",
       "      <td>0.207071</td>\n",
       "      <td>0.134328</td>\n",
       "      <td>0.688889</td>\n",
       "      <td>0.547619</td>\n",
       "      <td>0.638298</td>\n",
       "      <td>0.210317</td>\n",
       "      <td>0.312057</td>\n",
       "      <td>0.104167</td>\n",
       "      <td>1</td>\n",
       "    </tr>\n",
       "    <tr>\n",
       "      <th>2445</th>\n",
       "      <td>0.692308</td>\n",
       "      <td>0.575758</td>\n",
       "      <td>0.522388</td>\n",
       "      <td>0.333333</td>\n",
       "      <td>0.595238</td>\n",
       "      <td>0.382979</td>\n",
       "      <td>0.519841</td>\n",
       "      <td>0.460993</td>\n",
       "      <td>0.166667</td>\n",
       "      <td>0</td>\n",
       "    </tr>\n",
       "    <tr>\n",
       "      <th>3077</th>\n",
       "      <td>0.461538</td>\n",
       "      <td>0.297980</td>\n",
       "      <td>0.179104</td>\n",
       "      <td>0.600000</td>\n",
       "      <td>0.642857</td>\n",
       "      <td>0.638298</td>\n",
       "      <td>0.150794</td>\n",
       "      <td>0.276596</td>\n",
       "      <td>0.208333</td>\n",
       "      <td>1</td>\n",
       "    </tr>\n",
       "    <tr>\n",
       "      <th>4648</th>\n",
       "      <td>0.692308</td>\n",
       "      <td>0.712121</td>\n",
       "      <td>0.723881</td>\n",
       "      <td>0.288889</td>\n",
       "      <td>0.571429</td>\n",
       "      <td>0.191489</td>\n",
       "      <td>0.583333</td>\n",
       "      <td>0.716312</td>\n",
       "      <td>0.000000</td>\n",
       "      <td>0</td>\n",
       "    </tr>\n",
       "  </tbody>\n",
       "</table>\n",
       "</div>"
      ],
      "text/plain": [
       "            Ht        Wt     Forty  Vertical  BenchReps  BroadJump      Cone  \\\n",
       "5436  0.384615  0.131313  0.126866  0.688889   0.309524   0.829787  0.182540   \n",
       "4551  0.384615  0.207071  0.134328  0.688889   0.547619   0.638298  0.210317   \n",
       "2445  0.692308  0.575758  0.522388  0.333333   0.595238   0.382979  0.519841   \n",
       "3077  0.461538  0.297980  0.179104  0.600000   0.642857   0.638298  0.150794   \n",
       "4648  0.692308  0.712121  0.723881  0.288889   0.571429   0.191489  0.583333   \n",
       "\n",
       "       Shuttle        AV  cluster  \n",
       "5436  0.375887  0.083333        1  \n",
       "4551  0.312057  0.104167        1  \n",
       "2445  0.460993  0.166667        0  \n",
       "3077  0.276596  0.208333        1  \n",
       "4648  0.716312  0.000000        0  "
      ]
     },
     "execution_count": 29,
     "metadata": {},
     "output_type": "execute_result"
    }
   ],
   "source": [
    "X_train_scaled.head()"
   ]
  },
  {
   "cell_type": "code",
   "execution_count": 30,
   "metadata": {},
   "outputs": [],
   "source": [
    "from sklearn.feature_selection import RFE\n",
    "from sklearn.linear_model import LinearRegression\n",
    "import warnings\n",
    "warnings.filterwarnings(\"ignore\")"
   ]
  },
  {
   "cell_type": "code",
   "execution_count": 31,
   "metadata": {},
   "outputs": [],
   "source": [
    "## Assessing the RFE using a linear regression model\n",
    "lm = LinearRegression()\n",
    "\n",
    "rfe = RFE(lm, 4)\n",
    "lm_X_rfe_train = rfe.fit_transform(X_train_scaled,y_train)\n",
    "lm_X_rfe_val = rfe.fit_transform(X_validate_scaled,y_validate)\n",
    "lm_X_rfe_test = rfe.fit_transform(X_test_scaled,y_test)"
   ]
  },
  {
   "cell_type": "code",
   "execution_count": 32,
   "metadata": {},
   "outputs": [
    {
     "name": "stdout",
     "output_type": "stream",
     "text": [
      "selected 4 features: Wt, Forty, BroadJump, AV\n"
     ]
    }
   ],
   "source": [
    "## Here we want to filter through and return only the best features\n",
    "mask = rfe.support_ \n",
    "rfe_features = X_train_scaled.columns[mask]\n",
    "print(f'selected {len(rfe_features)} features:', ', '.join(rfe_features))"
   ]
  },
  {
   "cell_type": "code",
   "execution_count": 33,
   "metadata": {},
   "outputs": [
    {
     "data": {
      "text/plain": [
       "LinearRegression()"
      ]
     },
     "execution_count": 33,
     "metadata": {},
     "output_type": "execute_result"
    }
   ],
   "source": [
    "# Fit the model to the train dataset\n",
    "lm.fit(lm_X_rfe_train, y_train)"
   ]
  },
  {
   "cell_type": "code",
   "execution_count": 34,
   "metadata": {},
   "outputs": [
    {
     "name": "stdout",
     "output_type": "stream",
     "text": [
      "Linear Model: LinearRegression()\n",
      "intercept:  [198.13205017]\n",
      "features:  Index(['Wt', 'Forty', 'BroadJump', 'AV'], dtype='object')\n",
      "coefficients:  [[-119.79787013   85.57356935  -63.95091457 -195.41475985]]\n"
     ]
    }
   ],
   "source": [
    "print(\"Linear Model:\", lm)\n",
    "\n",
    "print(\"intercept: \", lm.intercept_)\n",
    "\n",
    "print(\"features: \", rfe_features)\n",
    "\n",
    "print(\"coefficients: \", lm.coef_)"
   ]
  },
  {
   "cell_type": "code",
   "execution_count": 35,
   "metadata": {},
   "outputs": [
    {
     "data": {
      "text/html": [
       "<div>\n",
       "<style scoped>\n",
       "    .dataframe tbody tr th:only-of-type {\n",
       "        vertical-align: middle;\n",
       "    }\n",
       "\n",
       "    .dataframe tbody tr th {\n",
       "        vertical-align: top;\n",
       "    }\n",
       "\n",
       "    .dataframe thead th {\n",
       "        text-align: right;\n",
       "    }\n",
       "</style>\n",
       "<table border=\"1\" class=\"dataframe\">\n",
       "  <thead>\n",
       "    <tr style=\"text-align: right;\">\n",
       "      <th></th>\n",
       "      <th>Pick</th>\n",
       "      <th>yhat_lm</th>\n",
       "    </tr>\n",
       "  </thead>\n",
       "  <tbody>\n",
       "    <tr>\n",
       "      <th>5436</th>\n",
       "      <td>112.0</td>\n",
       "      <td>123.907149</td>\n",
       "    </tr>\n",
       "    <tr>\n",
       "      <th>4551</th>\n",
       "      <td>84.0</td>\n",
       "      <td>123.644941</td>\n",
       "    </tr>\n",
       "    <tr>\n",
       "      <th>2445</th>\n",
       "      <td>132.0</td>\n",
       "      <td>116.799163</td>\n",
       "    </tr>\n",
       "    <tr>\n",
       "      <th>3077</th>\n",
       "      <td>250.0</td>\n",
       "      <td>96.230173</td>\n",
       "    </tr>\n",
       "    <tr>\n",
       "      <th>4648</th>\n",
       "      <td>143.0</td>\n",
       "      <td>162.520572</td>\n",
       "    </tr>\n",
       "  </tbody>\n",
       "</table>\n",
       "</div>"
      ],
      "text/plain": [
       "       Pick     yhat_lm\n",
       "5436  112.0  123.907149\n",
       "4551   84.0  123.644941\n",
       "2445  132.0  116.799163\n",
       "3077  250.0   96.230173\n",
       "4648  143.0  162.520572"
      ]
     },
     "execution_count": 35,
     "metadata": {},
     "output_type": "execute_result"
    }
   ],
   "source": [
    "## Here we're going to add a column that will make pick predictions using the linear model\n",
    "y_train['yhat_lm'] = lm.predict(lm_X_rfe_train)\n",
    "\n",
    "y_train.head()"
   ]
  },
  {
   "cell_type": "code",
   "execution_count": 36,
   "metadata": {},
   "outputs": [
    {
     "data": {
      "text/plain": [
       "58.61629916938053"
      ]
     },
     "execution_count": 36,
     "metadata": {},
     "output_type": "execute_result"
    }
   ],
   "source": [
    "import numpy as np\n",
    "from sklearn.metrics import mean_squared_error, explained_variance_score\n",
    "\n",
    "## Checking the mean squared error of the model\n",
    "RMSE_lm = np.sqrt(mean_squared_error(y_train.Pick, y_train.yhat_lm))\n",
    "RMSE_lm"
   ]
  },
  {
   "cell_type": "code",
   "execution_count": 37,
   "metadata": {},
   "outputs": [
    {
     "data": {
      "text/plain": [
       "0.30675929774975474"
      ]
     },
     "execution_count": 37,
     "metadata": {},
     "output_type": "execute_result"
    }
   ],
   "source": [
    "r2_lm = lm.score(lm_X_rfe_train, y_train.Pick)\n",
    "r2_lm"
   ]
  },
  {
   "cell_type": "markdown",
   "metadata": {},
   "source": [
    "# Validate for Linear Regression Model"
   ]
  },
  {
   "cell_type": "code",
   "execution_count": 38,
   "metadata": {},
   "outputs": [
    {
     "data": {
      "text/plain": [
       "LinearRegression()"
      ]
     },
     "execution_count": 38,
     "metadata": {},
     "output_type": "execute_result"
    }
   ],
   "source": [
    "lm.fit(lm_X_rfe_val, y_validate)"
   ]
  },
  {
   "cell_type": "code",
   "execution_count": 39,
   "metadata": {},
   "outputs": [
    {
     "name": "stdout",
     "output_type": "stream",
     "text": [
      "Linear Model: LinearRegression()\n",
      "intercept:  [188.03939032]\n",
      "features:  Index(['Wt', 'Forty', 'BroadJump', 'AV'], dtype='object')\n",
      "coefficients:  [[-110.2057985    93.19864801  -49.51505409 -199.71342238]]\n"
     ]
    }
   ],
   "source": [
    "print(\"Linear Model:\", lm)\n",
    "\n",
    "print(\"intercept: \", lm.intercept_)\n",
    "\n",
    "print(\"features: \", rfe_features)\n",
    "\n",
    "print(\"coefficients: \", lm.coef_)"
   ]
  },
  {
   "cell_type": "code",
   "execution_count": 40,
   "metadata": {},
   "outputs": [
    {
     "data": {
      "text/html": [
       "<div>\n",
       "<style scoped>\n",
       "    .dataframe tbody tr th:only-of-type {\n",
       "        vertical-align: middle;\n",
       "    }\n",
       "\n",
       "    .dataframe tbody tr th {\n",
       "        vertical-align: top;\n",
       "    }\n",
       "\n",
       "    .dataframe thead th {\n",
       "        text-align: right;\n",
       "    }\n",
       "</style>\n",
       "<table border=\"1\" class=\"dataframe\">\n",
       "  <thead>\n",
       "    <tr style=\"text-align: right;\">\n",
       "      <th></th>\n",
       "      <th>Pick</th>\n",
       "      <th>yhat_lm</th>\n",
       "    </tr>\n",
       "  </thead>\n",
       "  <tbody>\n",
       "    <tr>\n",
       "      <th>4929</th>\n",
       "      <td>171.0</td>\n",
       "      <td>152.976431</td>\n",
       "    </tr>\n",
       "    <tr>\n",
       "      <th>2851</th>\n",
       "      <td>96.0</td>\n",
       "      <td>129.900122</td>\n",
       "    </tr>\n",
       "    <tr>\n",
       "      <th>5404</th>\n",
       "      <td>20.0</td>\n",
       "      <td>84.920036</td>\n",
       "    </tr>\n",
       "    <tr>\n",
       "      <th>5845</th>\n",
       "      <td>111.0</td>\n",
       "      <td>161.916021</td>\n",
       "    </tr>\n",
       "    <tr>\n",
       "      <th>2873</th>\n",
       "      <td>125.0</td>\n",
       "      <td>144.642538</td>\n",
       "    </tr>\n",
       "  </tbody>\n",
       "</table>\n",
       "</div>"
      ],
      "text/plain": [
       "       Pick     yhat_lm\n",
       "4929  171.0  152.976431\n",
       "2851   96.0  129.900122\n",
       "5404   20.0   84.920036\n",
       "5845  111.0  161.916021\n",
       "2873  125.0  144.642538"
      ]
     },
     "execution_count": 40,
     "metadata": {},
     "output_type": "execute_result"
    }
   ],
   "source": [
    "\n",
    "## Here we're going to add a column that will make draft pick predictions on the validate dataset using the linear model\n",
    "y_validate['yhat_lm'] = lm.predict(lm_X_rfe_val)\n",
    "\n",
    "y_validate.head()"
   ]
  },
  {
   "cell_type": "code",
   "execution_count": 41,
   "metadata": {},
   "outputs": [
    {
     "name": "stdout",
     "output_type": "stream",
     "text": [
      "66.66742054481071\n",
      "0.0\n"
     ]
    },
    {
     "data": {
      "text/plain": [
       "<matplotlib.collections.PathCollection at 0x7fb7a3887280>"
      ]
     },
     "execution_count": 41,
     "metadata": {},
     "output_type": "execute_result"
    },
    {
     "data": {
      "image/png": "[encoded data removed]",
      "text/plain": [
       "<Figure size 432x288 with 1 Axes>"
      ]
     },
     "metadata": {
      "needs_background": "light"
     },
     "output_type": "display_data"
    }
   ],
   "source": [
    "y_validate['yhat_baseline'] = combine_data['Pick'].mean()\n",
    "\n",
    "# compute the RMSE\n",
    "RMSE_bl = np.sqrt(mean_squared_error(y_validate.Pick, y_validate.yhat_baseline))\n",
    "print(RMSE_bl)\n",
    "\n",
    "# no need to compute R-2 because it will be a 0! But we will demonstrate here:\n",
    "evs = explained_variance_score(y_validate.Pick, y_validate.yhat_baseline)\n",
    "print(evs)\n",
    "plt.scatter(y_validate.Pick, y_validate.yhat_lm, label='Linear Regression Model Predictions', marker='o')\n",
    "plt.scatter(y_validate.Pick, y_validate.yhat_baseline, label='Baseline Predicitions', marker='o')"
   ]
  },
  {
   "cell_type": "code",
   "execution_count": 42,
   "metadata": {},
   "outputs": [
    {
     "data": {
      "image/png": "[encoded data removed]",
      "text/plain": [
       "<Figure size 1152x576 with 1 Axes>"
      ]
     },
     "metadata": {
      "needs_background": "light"
     },
     "output_type": "display_data"
    }
   ],
   "source": [
    "\n",
    "# plot to visualize actual vs predicted. \n",
    "plt.figure(figsize=(16,8))\n",
    "plt.hist(y_validate.Pick, color='blue', alpha=.5, label=\"Actual Property Value\")\n",
    "plt.hist(y_validate.yhat_lm, color='green', alpha=.5, label=\"Linear Regression Model\")\n",
    "plt.xlabel(\"Draft Pick Number\")\n",
    "plt.ylabel(\"Observations\")\n",
    "plt.title(\"Comparing the Distribution of Actual Draft Pick Against Predicted Pick\")\n",
    "plt.legend()\n",
    "plt.show()"
   ]
  },
  {
   "cell_type": "code",
   "execution_count": 43,
   "metadata": {},
   "outputs": [
    {
     "data": {
      "text/plain": [
       "Player        object\n",
       "Pos           object\n",
       "Ht             int64\n",
       "Wt             int64\n",
       "Forty        float64\n",
       "Vertical     float64\n",
       "BenchReps    float64\n",
       "BroadJump    float64\n",
       "Cone         float64\n",
       "Shuttle      float64\n",
       "Year           int64\n",
       "AV           float64\n",
       "Team          object\n",
       "Round        float64\n",
       "cluster        int32\n",
       "dtype: object"
      ]
     },
     "execution_count": 43,
     "metadata": {},
     "output_type": "execute_result"
    }
   ],
   "source": [
    "X_train.dtypes"
   ]
  },
  {
   "cell_type": "code",
   "execution_count": 44,
   "metadata": {},
   "outputs": [],
   "source": [
    "from sklearn.preprocessing import PolynomialFeatures\n",
    "# fitting the train, validate, and test dataset\n",
    "poly_X_rfe_train = rfe.fit_transform(X_train_scaled, y_train)\n",
    "poly_X_rfe_val = rfe.transform(X_validate_scaled)\n",
    "poly_X_rfe_test = rfe.transform(X_test_scaled)\n",
    "\n",
    "# selecting the degree we would like to polynomaial to assess\n",
    "pf_4 = PolynomialFeatures(degree=4)\n",
    "\n",
    "# fit and transform X_train_scaled\n",
    "X_train_degree4 = pf_4.fit_transform(poly_X_rfe_train)\n",
    "\n",
    "# transform X_validate_scaled & X_test_scaled\n",
    "X_validate_degree4 = pf_4.transform(poly_X_rfe_val)\n",
    "X_test_degree4 = pf_4.transform(poly_X_rfe_test)"
   ]
  },
  {
   "cell_type": "code",
   "execution_count": 45,
   "metadata": {},
   "outputs": [
    {
     "name": "stdout",
     "output_type": "stream",
     "text": [
      "RMSE for Polynomial Model, degrees=4\n",
      "Training/In-Sample:  1501.569159789966761309187859296798706 \n",
      "Validation/Out-of-Sample:  1602.995812018637025175848975777626038\n"
     ]
    }
   ],
   "source": [
    "# create the model object\n",
    "lm2 = LinearRegression(normalize=True)\n",
    "\n",
    "# fit the model to our training data. We must specify the column in y_train, \n",
    "# since we have converted it to a dataframe from a series! \n",
    "lm2.fit(X_train_degree4, y_train.Pick)\n",
    "\n",
    "# predict train\n",
    "y_train['yhat_poly_1'] = lm2.predict(X_train_degree4)\n",
    "\n",
    "# evaluate: rmse\n",
    "rmse_train = mean_squared_error(y_train.Pick, y_train.yhat_poly_1)**1/2\n",
    "\n",
    "# predict validate\n",
    "y_validate['yhat_poly_1'] = lm2.predict(X_validate_degree4)\n",
    "\n",
    "# evaluate: rmse\n",
    "rmse_validate = mean_squared_error(y_validate.Pick, y_validate.yhat_poly_1)**1/2\n",
    "\n",
    "print(\"RMSE for Polynomial Model, degrees=4\\nTraining/In-Sample: \", '{:.33f}'.format(rmse_train), \n",
    "      \"\\nValidation/Out-of-Sample: \", '{:.33f}'.format(rmse_validate))"
   ]
  },
  {
   "cell_type": "code",
   "execution_count": null,
   "metadata": {},
   "outputs": [],
   "source": []
  },
  {
   "cell_type": "code",
   "execution_count": 46,
   "metadata": {},
   "outputs": [],
   "source": [
    "# make the polynomial features to get a new set of features\n",
    "pf_3 = PolynomialFeatures(degree=3)\n",
    "\n",
    "# fit and transform X_train_scaled\n",
    "X_train_degree3 = pf_3.fit_transform(poly_X_rfe_train)\n",
    "\n",
    "# transform X_validate_scaled & X_test_scaled\n",
    "X_validate_degree3 = pf_3.transform(poly_X_rfe_val)\n",
    "X_test_degree3 = pf_3.transform(poly_X_rfe_test)"
   ]
  },
  {
   "cell_type": "code",
   "execution_count": 47,
   "metadata": {},
   "outputs": [
    {
     "name": "stdout",
     "output_type": "stream",
     "text": [
      "RMSE for Polynomial Model, degrees=3\n",
      "Training/In-Sample:  1569.392801600859911559382453560829163 \n",
      "Validation/Out-of-Sample:  1460.838101829186143731931224465370178\n"
     ]
    }
   ],
   "source": [
    "# create the model object\n",
    "lm2 = LinearRegression(normalize=True)\n",
    "\n",
    "# fit the model to our training data. We must specify the column in y_train, \n",
    "# since we have converted it to a dataframe from a series! \n",
    "lm2.fit(X_train_degree3, y_train.Pick)\n",
    "\n",
    "# predict train\n",
    "y_train['yhat_poly_2'] = lm2.predict(X_train_degree3)\n",
    "\n",
    "# evaluate: rmse\n",
    "rmse_train = mean_squared_error(y_train.Pick, y_train.yhat_poly_2)**1/2\n",
    "\n",
    "# predict validate\n",
    "y_validate['yhat_poly_2'] = lm2.predict(X_validate_degree3)\n",
    "\n",
    "# evaluate: rmse\n",
    "rmse_validate = mean_squared_error(y_validate.Pick, y_validate.yhat_poly_2)**1/2\n",
    "\n",
    "print(\"RMSE for Polynomial Model, degrees=3\\nTraining/In-Sample: \", '{:.33f}'.format(rmse_train), \n",
    "      \"\\nValidation/Out-of-Sample: \", '{:.33f}'.format(rmse_validate))"
   ]
  },
  {
   "cell_type": "code",
   "execution_count": 48,
   "metadata": {},
   "outputs": [],
   "source": [
    "# make the polynomial features to get a new set of features\n",
    "pf_2 = PolynomialFeatures(degree=2)\n",
    "\n",
    "# fit and transform X_train_scaled\n",
    "X_train_degree2 = pf_2.fit_transform(poly_X_rfe_train)\n",
    "\n",
    "# transform X_validate_scaled & X_test_scaled\n",
    "X_validate_degree2 = pf_2.transform(poly_X_rfe_val)\n",
    "X_test_degree2 = pf_2.transform(poly_X_rfe_test)"
   ]
  },
  {
   "cell_type": "code",
   "execution_count": 49,
   "metadata": {},
   "outputs": [
    {
     "name": "stdout",
     "output_type": "stream",
     "text": [
      "RMSE for Polynomial Model, degrees=2\n",
      "Training/In-Sample:  1618.003593071147179216495715081691742 \n",
      "Validation/Out-of-Sample:  1454.724619710669912819867022335529327\n"
     ]
    }
   ],
   "source": [
    "# create the model object\n",
    "lm2 = LinearRegression(normalize=True)\n",
    "\n",
    "# fit the model to our training data. We must specify the column in y_train, \n",
    "# since we have converted it to a dataframe from a series! \n",
    "lm2.fit(X_train_degree2, y_train.Pick)\n",
    "\n",
    "# predict train\n",
    "y_train['yhat_poly_3'] = lm2.predict(X_train_degree2)\n",
    "\n",
    "# evaluate: rmse\n",
    "rmse_train = mean_squared_error(y_train.Pick, y_train.yhat_poly_3)**1/2\n",
    "\n",
    "# predict validate\n",
    "y_validate['yhat_poly_3'] = lm2.predict(X_validate_degree2)\n",
    "\n",
    "# evaluate: rmse\n",
    "rmse_validate = mean_squared_error(y_validate.Pick, y_validate.yhat_poly_3)**1/2\n",
    "\n",
    "print(\"RMSE for Polynomial Model, degrees=2\\nTraining/In-Sample: \", '{:.33f}'.format(rmse_train), \n",
    "      \"\\nValidation/Out-of-Sample: \", '{:.33f}'.format(rmse_validate))"
   ]
  },
  {
   "cell_type": "code",
   "execution_count": 50,
   "metadata": {},
   "outputs": [
    {
     "data": {
      "text/html": [
       "<div>\n",
       "<style scoped>\n",
       "    .dataframe tbody tr th:only-of-type {\n",
       "        vertical-align: middle;\n",
       "    }\n",
       "\n",
       "    .dataframe tbody tr th {\n",
       "        vertical-align: top;\n",
       "    }\n",
       "\n",
       "    .dataframe thead th {\n",
       "        text-align: right;\n",
       "    }\n",
       "</style>\n",
       "<table border=\"1\" class=\"dataframe\">\n",
       "  <thead>\n",
       "    <tr style=\"text-align: right;\">\n",
       "      <th></th>\n",
       "      <th>Pick</th>\n",
       "      <th>yhat_lm</th>\n",
       "      <th>yhat_baseline</th>\n",
       "      <th>yhat_poly_1</th>\n",
       "      <th>yhat_poly_2</th>\n",
       "      <th>yhat_poly_3</th>\n",
       "    </tr>\n",
       "  </thead>\n",
       "  <tbody>\n",
       "    <tr>\n",
       "      <th>4929</th>\n",
       "      <td>171.0</td>\n",
       "      <td>152.976431</td>\n",
       "      <td>116.733632</td>\n",
       "      <td>165.848145</td>\n",
       "      <td>159.491431</td>\n",
       "      <td>156.195550</td>\n",
       "    </tr>\n",
       "    <tr>\n",
       "      <th>2851</th>\n",
       "      <td>96.0</td>\n",
       "      <td>129.900122</td>\n",
       "      <td>116.733632</td>\n",
       "      <td>119.543219</td>\n",
       "      <td>107.122614</td>\n",
       "      <td>123.345505</td>\n",
       "    </tr>\n",
       "    <tr>\n",
       "      <th>5404</th>\n",
       "      <td>20.0</td>\n",
       "      <td>84.920036</td>\n",
       "      <td>116.733632</td>\n",
       "      <td>31.986520</td>\n",
       "      <td>50.090693</td>\n",
       "      <td>55.860270</td>\n",
       "    </tr>\n",
       "    <tr>\n",
       "      <th>5845</th>\n",
       "      <td>111.0</td>\n",
       "      <td>161.916021</td>\n",
       "      <td>116.733632</td>\n",
       "      <td>165.870279</td>\n",
       "      <td>164.293029</td>\n",
       "      <td>163.490003</td>\n",
       "    </tr>\n",
       "    <tr>\n",
       "      <th>2873</th>\n",
       "      <td>125.0</td>\n",
       "      <td>144.642538</td>\n",
       "      <td>116.733632</td>\n",
       "      <td>154.829674</td>\n",
       "      <td>158.353657</td>\n",
       "      <td>137.550973</td>\n",
       "    </tr>\n",
       "  </tbody>\n",
       "</table>\n",
       "</div>"
      ],
      "text/plain": [
       "       Pick     yhat_lm  yhat_baseline  yhat_poly_1  yhat_poly_2  yhat_poly_3\n",
       "4929  171.0  152.976431     116.733632   165.848145   159.491431   156.195550\n",
       "2851   96.0  129.900122     116.733632   119.543219   107.122614   123.345505\n",
       "5404   20.0   84.920036     116.733632    31.986520    50.090693    55.860270\n",
       "5845  111.0  161.916021     116.733632   165.870279   164.293029   163.490003\n",
       "2873  125.0  144.642538     116.733632   154.829674   158.353657   137.550973"
      ]
     },
     "execution_count": 50,
     "metadata": {},
     "output_type": "execute_result"
    }
   ],
   "source": [
    "y_validate.head()"
   ]
  },
  {
   "cell_type": "code",
   "execution_count": 51,
   "metadata": {},
   "outputs": [
    {
     "data": {
      "text/plain": [
       "<matplotlib.collections.PathCollection at 0x7fb7a3ee07c0>"
      ]
     },
     "execution_count": 51,
     "metadata": {},
     "output_type": "execute_result"
    },
    {
     "data": {
      "image/png": "[encoded data removed]",
      "text/plain": [
       "<Figure size 648x648 with 1 Axes>"
      ]
     },
     "metadata": {
      "needs_background": "light"
     },
     "output_type": "display_data"
    }
   ],
   "source": [
    "plt.figure(figsize=(9, 9))\n",
    "plt.scatter(y_validate.Pick, y_validate.yhat_poly_1, label='4 Degree Polynomial Regression Model Predictions', marker='o')\n",
    "plt.scatter(y_validate.Pick, y_validate.yhat_poly_2, label='3 Degree Polynomial Regression Model Predictions', marker='o')\n",
    "plt.scatter(y_validate.Pick, y_validate.yhat_poly_3, label='2 Degree Polynomial Regression Model Predictions', marker='o')\n",
    "plt.scatter(y_validate.Pick, y_validate.yhat_lm, label='Linear Regression Model Predictions', marker='o')\n",
    "plt.scatter(y_validate.Pick, y_validate.yhat_baseline, label='Baseline Predicitions', marker='o')"
   ]
  },
  {
   "cell_type": "code",
   "execution_count": 55,
   "metadata": {},
   "outputs": [
    {
     "data": {
      "image/png": "[encoded data removed]",
      "text/plain": [
       "<Figure size 1152x576 with 1 Axes>"
      ]
     },
     "metadata": {
      "needs_background": "light"
     },
     "output_type": "display_data"
    }
   ],
   "source": [
    "# plot to visualize actual vs predicted. \n",
    "plt.figure(figsize=(16,8))\n",
    "plt.hist(y_validate.Pick, color='blue', alpha=.5, label=\"Actual Property Value\")\n",
    "plt.hist(y_validate.yhat_poly_3, color='green', alpha=.5, label=\"2nd Degree Polynomial\")\n",
    "plt.xlabel(\"Draft Picks\")\n",
    "plt.ylabel(\"Observations\")\n",
    "plt.title(\"Comparing the Distribution of Actual Draft Pick Against Predicted Pick\")\n",
    "plt.legend()\n",
    "plt.show()"
   ]
  },
  {
   "cell_type": "code",
   "execution_count": 57,
   "metadata": {},
   "outputs": [
    {
     "name": "stdout",
     "output_type": "stream",
     "text": [
      "RMSE for Polynomial Model, degrees=2\n",
      "Validation/Out-Of-Sample:  1454.724619710669912819867022335529327 \n",
      "Test/Out-of-Sample:  1573.152308848304528510197997093200684\n"
     ]
    }
   ],
   "source": [
    "# predict validate\n",
    "y_test['yhat_poly'] = lm2.predict(X_test_degree2)\n",
    "\n",
    "# evaluate: rmse\n",
    "rmse_test = mean_squared_error(y_test.Pick, y_test.yhat_poly)**1/2\n",
    "\n",
    "print(\"RMSE for Polynomial Model, degrees=2\\nValidation/Out-Of-Sample: \", '{:.33f}'.format(rmse_validate), \n",
    "      \"\\nTest/Out-of-Sample: \", '{:.33f}'.format(rmse_test))"
   ]
  },
  {
   "cell_type": "code",
   "execution_count": 58,
   "metadata": {},
   "outputs": [
    {
     "data": {
      "text/html": [
       "<div>\n",
       "<style scoped>\n",
       "    .dataframe tbody tr th:only-of-type {\n",
       "        vertical-align: middle;\n",
       "    }\n",
       "\n",
       "    .dataframe tbody tr th {\n",
       "        vertical-align: top;\n",
       "    }\n",
       "\n",
       "    .dataframe thead th {\n",
       "        text-align: right;\n",
       "    }\n",
       "</style>\n",
       "<table border=\"1\" class=\"dataframe\">\n",
       "  <thead>\n",
       "    <tr style=\"text-align: right;\">\n",
       "      <th></th>\n",
       "      <th>Pick</th>\n",
       "      <th>yhat_poly</th>\n",
       "    </tr>\n",
       "  </thead>\n",
       "  <tbody>\n",
       "    <tr>\n",
       "      <th>2621</th>\n",
       "      <td>70.0</td>\n",
       "      <td>112.615996</td>\n",
       "    </tr>\n",
       "    <tr>\n",
       "      <th>4553</th>\n",
       "      <td>28.0</td>\n",
       "      <td>61.699467</td>\n",
       "    </tr>\n",
       "    <tr>\n",
       "      <th>2061</th>\n",
       "      <td>38.0</td>\n",
       "      <td>24.539233</td>\n",
       "    </tr>\n",
       "    <tr>\n",
       "      <th>2391</th>\n",
       "      <td>70.0</td>\n",
       "      <td>92.301993</td>\n",
       "    </tr>\n",
       "    <tr>\n",
       "      <th>3207</th>\n",
       "      <td>2.0</td>\n",
       "      <td>112.718331</td>\n",
       "    </tr>\n",
       "  </tbody>\n",
       "</table>\n",
       "</div>"
      ],
      "text/plain": [
       "      Pick   yhat_poly\n",
       "2621  70.0  112.615996\n",
       "4553  28.0   61.699467\n",
       "2061  38.0   24.539233\n",
       "2391  70.0   92.301993\n",
       "3207   2.0  112.718331"
      ]
     },
     "execution_count": 58,
     "metadata": {},
     "output_type": "execute_result"
    }
   ],
   "source": [
    "y_test.head()"
   ]
  },
  {
   "cell_type": "code",
   "execution_count": 60,
   "metadata": {},
   "outputs": [
    {
     "data": {
      "text/plain": [
       "<matplotlib.collections.PathCollection at 0x7fb7a48ca040>"
      ]
     },
     "execution_count": 60,
     "metadata": {},
     "output_type": "execute_result"
    },
    {
     "data": {
      "image/png": "[encoded data removed]",
      "text/plain": [
       "<Figure size 432x288 with 1 Axes>"
      ]
     },
     "metadata": {
      "needs_background": "light"
     },
     "output_type": "display_data"
    }
   ],
   "source": [
    "plt.scatter(y_test.Pick, y_test.yhat_poly, label='Polynomial Regression Model Predictions', marker='o')\n",
    "plt.scatter(y_validate.Pick, y_validate.yhat_baseline, label='Baseline Predicitions', marker='o')"
   ]
  },
  {
   "cell_type": "code",
   "execution_count": 62,
   "metadata": {},
   "outputs": [
    {
     "data": {
      "image/png": "[encoded data removed]",
      "text/plain": [
       "<Figure size 1152x576 with 1 Axes>"
      ]
     },
     "metadata": {
      "needs_background": "light"
     },
     "output_type": "display_data"
    }
   ],
   "source": [
    "# plot to visualize actual vs predicted. \n",
    "plt.figure(figsize=(16,8))\n",
    "plt.hist(y_test.Pick, color='blue', alpha=.5, label=\"Actual Property Value\")\n",
    "plt.hist(y_test.yhat_poly, color='green', alpha=.5, label=\"2nd Degree Polynomial\")\n",
    "plt.xlabel(\"Log Error\")\n",
    "plt.ylabel(\"Observations\")\n",
    "plt.title(\"Comparing the Distribution of Actual Property Value Against Our Predicted Propery Value\")\n",
    "plt.legend()\n",
    "plt.show()"
   ]
  },
  {
   "cell_type": "code",
   "execution_count": 64,
   "metadata": {},
   "outputs": [
    {
     "data": {
      "text/html": [
       "<div>\n",
       "<style scoped>\n",
       "    .dataframe tbody tr th:only-of-type {\n",
       "        vertical-align: middle;\n",
       "    }\n",
       "\n",
       "    .dataframe tbody tr th {\n",
       "        vertical-align: top;\n",
       "    }\n",
       "\n",
       "    .dataframe thead th {\n",
       "        text-align: right;\n",
       "    }\n",
       "</style>\n",
       "<table border=\"1\" class=\"dataframe\">\n",
       "  <thead>\n",
       "    <tr style=\"text-align: right;\">\n",
       "      <th></th>\n",
       "      <th>Pick</th>\n",
       "      <th>yhat_poly</th>\n",
       "      <th>perc_error</th>\n",
       "    </tr>\n",
       "  </thead>\n",
       "  <tbody>\n",
       "    <tr>\n",
       "      <th>2621</th>\n",
       "      <td>70.0</td>\n",
       "      <td>112.615996</td>\n",
       "      <td>-60.879994</td>\n",
       "    </tr>\n",
       "    <tr>\n",
       "      <th>4553</th>\n",
       "      <td>28.0</td>\n",
       "      <td>61.699467</td>\n",
       "      <td>-120.355239</td>\n",
       "    </tr>\n",
       "    <tr>\n",
       "      <th>2061</th>\n",
       "      <td>38.0</td>\n",
       "      <td>24.539233</td>\n",
       "      <td>35.423070</td>\n",
       "    </tr>\n",
       "    <tr>\n",
       "      <th>2391</th>\n",
       "      <td>70.0</td>\n",
       "      <td>92.301993</td>\n",
       "      <td>-31.859990</td>\n",
       "    </tr>\n",
       "    <tr>\n",
       "      <th>3207</th>\n",
       "      <td>2.0</td>\n",
       "      <td>112.718331</td>\n",
       "      <td>-5535.916527</td>\n",
       "    </tr>\n",
       "    <tr>\n",
       "      <th>...</th>\n",
       "      <td>...</td>\n",
       "      <td>...</td>\n",
       "      <td>...</td>\n",
       "    </tr>\n",
       "    <tr>\n",
       "      <th>1116</th>\n",
       "      <td>147.0</td>\n",
       "      <td>131.358141</td>\n",
       "      <td>10.640720</td>\n",
       "    </tr>\n",
       "    <tr>\n",
       "      <th>4655</th>\n",
       "      <td>182.0</td>\n",
       "      <td>144.838177</td>\n",
       "      <td>20.418584</td>\n",
       "    </tr>\n",
       "    <tr>\n",
       "      <th>3920</th>\n",
       "      <td>242.0</td>\n",
       "      <td>109.407543</td>\n",
       "      <td>54.790271</td>\n",
       "    </tr>\n",
       "    <tr>\n",
       "      <th>724</th>\n",
       "      <td>107.0</td>\n",
       "      <td>138.104953</td>\n",
       "      <td>-29.070050</td>\n",
       "    </tr>\n",
       "    <tr>\n",
       "      <th>4639</th>\n",
       "      <td>248.0</td>\n",
       "      <td>182.901509</td>\n",
       "      <td>26.249392</td>\n",
       "    </tr>\n",
       "  </tbody>\n",
       "</table>\n",
       "<p>537 rows × 3 columns</p>\n",
       "</div>"
      ],
      "text/plain": [
       "       Pick   yhat_poly   perc_error\n",
       "2621   70.0  112.615996   -60.879994\n",
       "4553   28.0   61.699467  -120.355239\n",
       "2061   38.0   24.539233    35.423070\n",
       "2391   70.0   92.301993   -31.859990\n",
       "3207    2.0  112.718331 -5535.916527\n",
       "...     ...         ...          ...\n",
       "1116  147.0  131.358141    10.640720\n",
       "4655  182.0  144.838177    20.418584\n",
       "3920  242.0  109.407543    54.790271\n",
       "724   107.0  138.104953   -29.070050\n",
       "4639  248.0  182.901509    26.249392\n",
       "\n",
       "[537 rows x 3 columns]"
      ]
     },
     "execution_count": 64,
     "metadata": {},
     "output_type": "execute_result"
    }
   ],
   "source": [
    "y_test['perc_error'] = ((y_test.Pick - y_test.yhat_poly) / y_test.Pick) * 100\n",
    "y_test"
   ]
  },
  {
   "cell_type": "code",
   "execution_count": 65,
   "metadata": {},
   "outputs": [
    {
     "name": "stdout",
     "output_type": "stream",
     "text": [
      "The MVP Model was, -40268.801663776837813202291727066040039 % off actual\n"
     ]
    }
   ],
   "source": [
    "print('The MVP Model was, ''{:.33f}'.format(y_test.perc_error.sum()), '% off actual')"
   ]
  },
  {
   "cell_type": "code",
   "execution_count": null,
   "metadata": {},
   "outputs": [],
   "source": []
  }
 ],
 "metadata": {
  "kernelspec": {
   "display_name": "Python 3",
   "language": "python",
   "name": "python3"
  },
  "language_info": {
   "codemirror_mode": {
    "name": "ipython",
    "version": 3
   },
   "file_extension": ".py",
   "mimetype": "text/x-python",
   "name": "python",
   "nbconvert_exporter": "python",
   "pygments_lexer": "ipython3",
   "version": "3.8.3"
  }
 },
 "nbformat": 4,
 "nbformat_minor": 4
}
